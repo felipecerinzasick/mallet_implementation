{
 "cells": [
  {
   "cell_type": "code",
   "execution_count": 1,
   "id": "7786417a-5dc3-4e58-ace3-193ef8d5e146",
   "metadata": {},
   "outputs": [
    {
     "name": "stderr",
     "output_type": "stream",
     "text": [
      "/Users/felipesick/miniforge3/lib/python3.9/site-packages/scipy/__init__.py:146: UserWarning: A NumPy version >=1.16.5 and <1.23.0 is required for this version of SciPy (detected version 1.23.1\n",
      "  warnings.warn(f\"A NumPy version >={np_minversion} and <{np_maxversion}\"\n"
     ]
    }
   ],
   "source": [
    "import glob\n",
    "import os\n",
    "import pandas as pd\n",
    "import numpy as np\n",
    "import seaborn as sns\n",
    "import matplotlib.pyplot as plt\n",
    "\n",
    "\n",
    "sns.set()\n",
    "\n",
    "file_list = glob.glob(os.path.join(os.getcwd(), \"/Users/felipesick/Desktop/Mallet_implementation/text\", \"*.txt\"))\n",
    "\n",
    "corpus = []\n",
    "files = []\n",
    "\n",
    "for file_path in file_list:\n",
    "    with open(file_path, encoding=\"latin-1\") as f_input:\n",
    "        corpus.append(f_input.read())\n",
    "        files.append(''.join([n for n in os.path.basename(file_path)]))\n",
    "\n",
    "df = pd.DataFrame({'file':files, 'text':corpus})"
   ]
  },
  {
   "cell_type": "code",
   "execution_count": 2,
   "id": "d94dabfe-7e02-45a9-a680-66a463a296f9",
   "metadata": {},
   "outputs": [
    {
     "data": {
      "text/html": [
       "<div>\n",
       "<style scoped>\n",
       "    .dataframe tbody tr th:only-of-type {\n",
       "        vertical-align: middle;\n",
       "    }\n",
       "\n",
       "    .dataframe tbody tr th {\n",
       "        vertical-align: top;\n",
       "    }\n",
       "\n",
       "    .dataframe thead th {\n",
       "        text-align: right;\n",
       "    }\n",
       "</style>\n",
       "<table border=\"1\" class=\"dataframe\">\n",
       "  <thead>\n",
       "    <tr style=\"text-align: right;\">\n",
       "      <th></th>\n",
       "      <th>file</th>\n",
       "      <th>text</th>\n",
       "    </tr>\n",
       "  </thead>\n",
       "  <tbody>\n",
       "    <tr>\n",
       "      <th>0</th>\n",
       "      <td>39370-11In-8267700E1718303650K-Gl-1.txt</td>\n",
       "      <td>ÿþ \u0000 \u0000C\u0000o\u0000r\u0000p\u0000o\u0000r\u0000a\u0000t\u0000e\u0000R\u0000e\u0000g\u0000i\u0000s\u0000t\u0000e\u0000r\u0000.\u0000c\u0000o\u0000...</td>\n",
       "    </tr>\n",
       "    <tr>\n",
       "      <th>1</th>\n",
       "      <td>45271-12In-13354945D11507707116I-Gl.txt</td>\n",
       "      <td>ÿþ \u0000 \u0000 \u0000 \u0000 \u0000S\u0000K\u0000F\u0000 \u0000C\u0000a\u0000r\u0000e\u0000\\n\u0000A\u0000n\u0000n\u0000u\u0000a\u0000l\u0000 \u0000R...</td>\n",
       "    </tr>\n",
       "    <tr>\n",
       "      <th>2</th>\n",
       "      <td>41504-11In-10168480J1805590016R-Gl.txt</td>\n",
       "      <td>ÿþ2\u00000\u00001\u00000\u0000\\n\u0000A\u0000n\u0000n\u0000u\u0000a\u0000l\u0000 \u0000R\u0000e\u0000p\u0000o\u0000r\u0000t\u0000\\n\u0000 \u0000 \u0000...</td>\n",
       "    </tr>\n",
       "    <tr>\n",
       "      <th>3</th>\n",
       "      <td>36935-11In-8088765I5803374940E-Gl.txt</td>\n",
       "      <td>A year of delivering TomorrowÕs Answers To...</td>\n",
       "    </tr>\n",
       "    <tr>\n",
       "      <th>4</th>\n",
       "      <td>36706-11In-9653678F1098427050O-Gl.txt</td>\n",
       "      <td>ÿþa\u0000n\u0000n\u0000u\u0000a\u0000l\u0000 \u0000r\u0000e\u0000p\u0000o\u0000r\u0000t\u0000 \u00002\u00000\u00001\u00000\u0000\\n\u0000 \u0000 \u0000 ...</td>\n",
       "    </tr>\n",
       "  </tbody>\n",
       "</table>\n",
       "</div>"
      ],
      "text/plain": [
       "                                      file  \\\n",
       "0  39370-11In-8267700E1718303650K-Gl-1.txt   \n",
       "1  45271-12In-13354945D11507707116I-Gl.txt   \n",
       "2   41504-11In-10168480J1805590016R-Gl.txt   \n",
       "3    36935-11In-8088765I5803374940E-Gl.txt   \n",
       "4    36706-11In-9653678F1098427050O-Gl.txt   \n",
       "\n",
       "                                                text  \n",
       "0  ÿþ \u0000 \u0000C\u0000o\u0000r\u0000p\u0000o\u0000r\u0000a\u0000t\u0000e\u0000R\u0000e\u0000g\u0000i\u0000s\u0000t\u0000e\u0000r\u0000.\u0000c\u0000o\u0000...  \n",
       "1  ÿþ \u0000 \u0000 \u0000 \u0000 \u0000S\u0000K\u0000F\u0000 \u0000C\u0000a\u0000r\u0000e\u0000\\n\u0000A\u0000n\u0000n\u0000u\u0000a\u0000l\u0000 \u0000R...  \n",
       "2  ÿþ2\u00000\u00001\u00000\u0000\\n\u0000A\u0000n\u0000n\u0000u\u0000a\u0000l\u0000 \u0000R\u0000e\u0000p\u0000o\u0000r\u0000t\u0000\\n\u0000 \u0000 \u0000...  \n",
       "3      A year of delivering TomorrowÕs Answers To...  \n",
       "4  ÿþa\u0000n\u0000n\u0000u\u0000a\u0000l\u0000 \u0000r\u0000e\u0000p\u0000o\u0000r\u0000t\u0000 \u00002\u00000\u00001\u00000\u0000\\n\u0000 \u0000 \u0000 ...  "
      ]
     },
     "execution_count": 2,
     "metadata": {},
     "output_type": "execute_result"
    }
   ],
   "source": [
    "df.head()"
   ]
  },
  {
   "cell_type": "code",
   "execution_count": 3,
   "id": "65b69e28-aee0-4e04-9f52-b4c3d8a53990",
   "metadata": {},
   "outputs": [
    {
     "data": {
      "text/html": [
       "<div>\n",
       "<style scoped>\n",
       "    .dataframe tbody tr th:only-of-type {\n",
       "        vertical-align: middle;\n",
       "    }\n",
       "\n",
       "    .dataframe tbody tr th {\n",
       "        vertical-align: top;\n",
       "    }\n",
       "\n",
       "    .dataframe thead th {\n",
       "        text-align: right;\n",
       "    }\n",
       "</style>\n",
       "<table border=\"1\" class=\"dataframe\">\n",
       "  <thead>\n",
       "    <tr style=\"text-align: right;\">\n",
       "      <th></th>\n",
       "      <th>Country</th>\n",
       "      <th>Industry</th>\n",
       "      <th>Year</th>\n",
       "      <th>file</th>\n",
       "    </tr>\n",
       "  </thead>\n",
       "  <tbody>\n",
       "    <tr>\n",
       "      <th>0</th>\n",
       "      <td>The Netherlands</td>\n",
       "      <td>Financials</td>\n",
       "      <td>2015</td>\n",
       "      <td>71732-15In-16139700N1766185304U-Gl.txt</td>\n",
       "    </tr>\n",
       "    <tr>\n",
       "      <th>1</th>\n",
       "      <td>Austria</td>\n",
       "      <td>Consumer Goods</td>\n",
       "      <td>2015</td>\n",
       "      <td>74028-15In-17396580N5484586464F-Gl.txt</td>\n",
       "    </tr>\n",
       "    <tr>\n",
       "      <th>2</th>\n",
       "      <td>The Netherlands</td>\n",
       "      <td>Basic Materials</td>\n",
       "      <td>2015</td>\n",
       "      <td>70954-15In-17525638H15128811880Q-Gl.txt</td>\n",
       "    </tr>\n",
       "    <tr>\n",
       "      <th>3</th>\n",
       "      <td>France</td>\n",
       "      <td>Industrials</td>\n",
       "      <td>2015</td>\n",
       "      <td>73414-15In-16958634K13958791132V-Gl.txt</td>\n",
       "    </tr>\n",
       "    <tr>\n",
       "      <th>4</th>\n",
       "      <td>The Netherlands</td>\n",
       "      <td>Basic Materials</td>\n",
       "      <td>2015</td>\n",
       "      <td>71860-15In-16240360C22862905740J-Gl.txt</td>\n",
       "    </tr>\n",
       "  </tbody>\n",
       "</table>\n",
       "</div>"
      ],
      "text/plain": [
       "           Country         Industry  Year  \\\n",
       "0  The Netherlands       Financials  2015   \n",
       "1          Austria   Consumer Goods  2015   \n",
       "2  The Netherlands  Basic Materials  2015   \n",
       "3           France      Industrials  2015   \n",
       "4  The Netherlands  Basic Materials  2015   \n",
       "\n",
       "                                      file  \n",
       "0   71732-15In-16139700N1766185304U-Gl.txt  \n",
       "1   74028-15In-17396580N5484586464F-Gl.txt  \n",
       "2  70954-15In-17525638H15128811880Q-Gl.txt  \n",
       "3  73414-15In-16958634K13958791132V-Gl.txt  \n",
       "4  71860-15In-16240360C22862905740J-Gl.txt  "
      ]
     },
     "execution_count": 3,
     "metadata": {},
     "output_type": "execute_result"
    }
   ],
   "source": [
    "df2 = pd.read_excel (r'/Users/felipesick/Desktop/Mallet_implementation/articles_mallet.xlsx')\n",
    "df2.head()"
   ]
  },
  {
   "cell_type": "code",
   "execution_count": 4,
   "id": "824c01bf-4dd2-4560-a0c7-016fb76e816b",
   "metadata": {},
   "outputs": [
    {
     "data": {
      "text/html": [
       "<div>\n",
       "<style scoped>\n",
       "    .dataframe tbody tr th:only-of-type {\n",
       "        vertical-align: middle;\n",
       "    }\n",
       "\n",
       "    .dataframe tbody tr th {\n",
       "        vertical-align: top;\n",
       "    }\n",
       "\n",
       "    .dataframe thead th {\n",
       "        text-align: right;\n",
       "    }\n",
       "</style>\n",
       "<table border=\"1\" class=\"dataframe\">\n",
       "  <thead>\n",
       "    <tr style=\"text-align: right;\">\n",
       "      <th></th>\n",
       "      <th>file</th>\n",
       "      <th>text</th>\n",
       "      <th>Country</th>\n",
       "      <th>Industry</th>\n",
       "      <th>Year</th>\n",
       "    </tr>\n",
       "  </thead>\n",
       "  <tbody>\n",
       "  </tbody>\n",
       "</table>\n",
       "</div>"
      ],
      "text/plain": [
       "Empty DataFrame\n",
       "Columns: [file, text, Country, Industry, Year]\n",
       "Index: []"
      ]
     },
     "execution_count": 4,
     "metadata": {},
     "output_type": "execute_result"
    }
   ],
   "source": [
    "pd.merge(df, df2, on=\"file\")"
   ]
  },
  {
   "cell_type": "code",
   "execution_count": 5,
   "id": "1051cd99-45e4-4c57-a747-ee2d320cb3ba",
   "metadata": {},
   "outputs": [
    {
     "name": "stdout",
     "output_type": "stream",
     "text": [
      "<class 'pandas.core.frame.DataFrame'>\n",
      "RangeIndex: 108 entries, 0 to 107\n",
      "Data columns (total 2 columns):\n",
      " #   Column  Non-Null Count  Dtype \n",
      "---  ------  --------------  ----- \n",
      " 0   file    108 non-null    object\n",
      " 1   text    108 non-null    object\n",
      "dtypes: object(2)\n",
      "memory usage: 1.8+ KB\n"
     ]
    }
   ],
   "source": [
    "df.info()"
   ]
  },
  {
   "cell_type": "code",
   "execution_count": 6,
   "id": "0413cb97-ddd0-47bf-b063-26bd6b1bd880",
   "metadata": {},
   "outputs": [
    {
     "name": "stderr",
     "output_type": "stream",
     "text": [
      "[nltk_data] Downloading package stopwords to\n",
      "[nltk_data]     /Users/felipesick/nltk_data...\n",
      "[nltk_data]   Package stopwords is already up-to-date!\n",
      "/Users/felipesick/miniforge3/lib/python3.9/site-packages/past/builtins/misc.py:45: DeprecationWarning: the imp module is deprecated in favour of importlib; see the module's documentation for alternative uses\n",
      "  from imp import reload\n",
      "/Users/felipesick/miniforge3/lib/python3.9/site-packages/scipy/sparse/sparsetools.py:21: DeprecationWarning: `scipy.sparse.sparsetools` is deprecated!\n",
      "scipy.sparse.sparsetools is a private module for scipy.sparse, and should not be used.\n",
      "  _deprecated()\n"
     ]
    }
   ],
   "source": [
    "import nltk \n",
    "nltk.download('stopwords')\n",
    "import pyLDAvis\n",
    "import gensim\n",
    "import gensim.corpora as corpora\n",
    "from gensim.utils import simple_preprocess\n",
    "from gensim.models import CoherenceModel\n",
    "import spacy"
   ]
  },
  {
   "cell_type": "code",
   "execution_count": 7,
   "id": "8ce804fa-0005-4eb8-a923-467bcbe5af68",
   "metadata": {},
   "outputs": [],
   "source": [
    "data = list(df.text)"
   ]
  },
  {
   "cell_type": "code",
   "execution_count": 8,
   "id": "45b87294-50d7-4333-91bb-e018dfc10a85",
   "metadata": {},
   "outputs": [],
   "source": [
    "bigram = gensim.models.Phrases(data, min_count=20, threshold=100)\n",
    "trigram = gensim.models.Phrases(bigram[data], threshold=100)\n",
    "bigram_mod = gensim.models.phrases.Phraser(bigram)\n",
    "trigram_mod = gensim.models.phrases.Phraser(trigram)"
   ]
  },
  {
   "cell_type": "code",
   "execution_count": 9,
   "id": "939a12c4-f537-49f4-946c-c76c0449539c",
   "metadata": {},
   "outputs": [],
   "source": [
    "\n",
    "# only need tagger, no need for parser and named entity recognizer, for faster implementation\n",
    "nlp = spacy.load('en_core_web_sm', disable=['parser', 'ner'])\n",
    "\n",
    "# get stopwords from nltk library\n",
    "stop_words = nltk.corpus.stopwords.words('english')\n",
    "\n",
    "def process_words(texts, stop_words=stop_words, allowed_tags=['NOUN', 'ADJ', 'VERB', 'ADV']):\n",
    "    \n",
    "    \"\"\"Convert a document into a list of lowercase tokens, build bigrams-trigrams, implement lemmatization\"\"\"\n",
    "    \n",
    "    # remove stopwords, short tokens and letter accents \n",
    "    texts = [[word for word in simple_preprocess(str(doc), deacc=True, min_len=3) if word not in stop_words] for doc in texts]\n",
    "    \n",
    "    # bi-gram and tri-gram implementation\n",
    "    texts = [bigram_mod[doc] for doc in texts]\n",
    "    texts = [trigram_mod[bigram_mod[doc]] for doc in texts]\n",
    "    \n",
    "    texts_out = []\n",
    "    \n",
    "    # implement lemmatization and filter out unwanted part of speech tags\n",
    "    for sent in texts:\n",
    "        doc = nlp(\" \".join(sent)) \n",
    "        texts_out.append([token.lemma_ for token in doc if token.pos_ in allowed_tags])\n",
    "    \n",
    "    # remove stopwords and short tokens again after lemmatization\n",
    "    texts_out = [[word for word in simple_preprocess(str(doc), deacc=True, min_len=3) if word not in stop_words] for doc in texts_out]    \n",
    "    \n",
    "    return texts_out"
   ]
  },
  {
   "cell_type": "code",
   "execution_count": 10,
   "id": "b7a6dd72-e066-4fd8-b123-d8cda027beb1",
   "metadata": {},
   "outputs": [],
   "source": [
    "data_ready = process_words(data)"
   ]
  },
  {
   "cell_type": "code",
   "execution_count": 11,
   "id": "b79fd64e-68f4-40df-9e88-7b2b81aff94b",
   "metadata": {},
   "outputs": [
    {
     "name": "stdout",
     "output_type": "stream",
     "text": [
      "Total Vocabulary Size: 11847\n"
     ]
    }
   ],
   "source": [
    "id2word = corpora.Dictionary(data_ready)\n",
    "print('Total Vocabulary Size:', len(id2word))"
   ]
  },
  {
   "cell_type": "code",
   "execution_count": 12,
   "id": "9546b84b-486d-4d9b-b693-e8646b9556c6",
   "metadata": {},
   "outputs": [],
   "source": [
    "corpus = [id2word.doc2bow(text) for text in data_ready]"
   ]
  },
  {
   "cell_type": "code",
   "execution_count": 13,
   "id": "f04148dc-d4ff-4382-bf16-0a0ea0d9dca3",
   "metadata": {},
   "outputs": [],
   "source": [
    "dict_corpus = {}\n",
    "\n",
    "for i in range(len(corpus)):\n",
    "  for idx, freq in corpus[i]:\n",
    "    if id2word[idx] in dict_corpus:\n",
    "      dict_corpus[id2word[idx]] += freq\n",
    "    else:\n",
    "       dict_corpus[id2word[idx]] = freq\n",
    "       \n",
    "dict_df = pd.DataFrame.from_dict(dict_corpus, orient='index', columns=['freq'])"
   ]
  },
  {
   "cell_type": "code",
   "execution_count": 14,
   "id": "847e28ef-e4c0-4183-9317-ca5f84668a93",
   "metadata": {},
   "outputs": [
    {
     "name": "stderr",
     "output_type": "stream",
     "text": [
      "/Users/felipesick/miniforge3/lib/python3.9/site-packages/seaborn/distributions.py:2619: FutureWarning: `distplot` is a deprecated function and will be removed in a future version. Please adapt your code to use either `displot` (a figure-level function with similar flexibility) or `histplot` (an axes-level function for histograms).\n",
      "  warnings.warn(msg, FutureWarning)\n"
     ]
    },
    {
     "data": {
      "image/png": "[encoded data removed]",
      "text/plain": [
       "<Figure size 800x600 with 1 Axes>"
      ]
     },
     "metadata": {},
     "output_type": "display_data"
    }
   ],
   "source": [
    "plt.figure(figsize=(8,6))\n",
    "sns.distplot(dict_df['freq'], bins=100);\n"
   ]
  },
  {
   "cell_type": "code",
   "execution_count": 15,
   "id": "35547179-2e48-4562-b57d-09cacfcdbfad",
   "metadata": {},
   "outputs": [
    {
     "data": {
      "text/html": [
       "<div>\n",
       "<style scoped>\n",
       "    .dataframe tbody tr th:only-of-type {\n",
       "        vertical-align: middle;\n",
       "    }\n",
       "\n",
       "    .dataframe tbody tr th {\n",
       "        vertical-align: top;\n",
       "    }\n",
       "\n",
       "    .dataframe thead th {\n",
       "        text-align: right;\n",
       "    }\n",
       "</style>\n",
       "<table border=\"1\" class=\"dataframe\">\n",
       "  <thead>\n",
       "    <tr style=\"text-align: right;\">\n",
       "      <th></th>\n",
       "      <th>freq</th>\n",
       "    </tr>\n",
       "  </thead>\n",
       "  <tbody>\n",
       "    <tr>\n",
       "      <th>year</th>\n",
       "      <td>4995</td>\n",
       "    </tr>\n",
       "    <tr>\n",
       "      <th>share</th>\n",
       "      <td>4749</td>\n",
       "    </tr>\n",
       "    <tr>\n",
       "      <th>financial</th>\n",
       "      <td>4661</td>\n",
       "    </tr>\n",
       "    <tr>\n",
       "      <th>company</th>\n",
       "      <td>4594</td>\n",
       "    </tr>\n",
       "    <tr>\n",
       "      <th>report</th>\n",
       "      <td>4173</td>\n",
       "    </tr>\n",
       "    <tr>\n",
       "      <th>business</th>\n",
       "      <td>4155</td>\n",
       "    </tr>\n",
       "    <tr>\n",
       "      <th>group</th>\n",
       "      <td>3798</td>\n",
       "    </tr>\n",
       "    <tr>\n",
       "      <th>asset</th>\n",
       "      <td>3764</td>\n",
       "    </tr>\n",
       "    <tr>\n",
       "      <th>market</th>\n",
       "      <td>3607</td>\n",
       "    </tr>\n",
       "    <tr>\n",
       "      <th>management</th>\n",
       "      <td>3538</td>\n",
       "    </tr>\n",
       "  </tbody>\n",
       "</table>\n",
       "</div>"
      ],
      "text/plain": [
       "            freq\n",
       "year        4995\n",
       "share       4749\n",
       "financial   4661\n",
       "company     4594\n",
       "report      4173\n",
       "business    4155\n",
       "group       3798\n",
       "asset       3764\n",
       "market      3607\n",
       "management  3538"
      ]
     },
     "execution_count": 15,
     "metadata": {},
     "output_type": "execute_result"
    }
   ],
   "source": [
    "dict_df.sort_values('freq', ascending=False).head(10)"
   ]
  },
  {
   "cell_type": "code",
   "execution_count": 16,
   "id": "729ffda2-188a-4509-80f2-7f60ef82df33",
   "metadata": {},
   "outputs": [],
   "source": [
    "extension = dict_df[dict_df.freq>1500].index.tolist()"
   ]
  },
  {
   "cell_type": "code",
   "execution_count": 17,
   "id": "1be4b45c-fca8-4412-92b2-f4a2a1dde998",
   "metadata": {},
   "outputs": [],
   "source": [
    "ids=[id2word.token2id[extension[i]] for i in range(len(extension))]\n",
    "id2word.filter_tokens(bad_ids=ids)"
   ]
  },
  {
   "cell_type": "code",
   "execution_count": 18,
   "id": "87990d32-af91-4324-920f-556761d56ad1",
   "metadata": {},
   "outputs": [
    {
     "name": "stdout",
     "output_type": "stream",
     "text": [
      "Total Vocabulary Size: 11847\n"
     ]
    }
   ],
   "source": [
    "# add high frequency words to stop words list\n",
    "stop_words.extend(extension)\n",
    "# rerun the process_words function\n",
    "data_ready = process_words(data)\n",
    "# recreate Dictionary\n",
    "id2word = corpora.Dictionary(data_ready)\n",
    "print('Total Vocabulary Size:', len(id2word))"
   ]
  },
  {
   "cell_type": "code",
   "execution_count": 19,
   "id": "b6c2b1ee-9ba7-4423-89ba-c4f0f40cad1b",
   "metadata": {},
   "outputs": [
    {
     "name": "stdout",
     "output_type": "stream",
     "text": [
      "Total Vocabulary Size: 2340\n"
     ]
    }
   ],
   "source": [
    "# Filter out words that occur less than 10 documents, or more than\n",
    "# 50% of the documents.\n",
    "id2word.filter_extremes(no_below=10, no_above=0.5)\n",
    "print('Total Vocabulary Size:', len(id2word))"
   ]
  },
  {
   "cell_type": "code",
   "execution_count": 20,
   "id": "d028acb1-3671-44d6-b496-ce5641f886db",
   "metadata": {},
   "outputs": [],
   "source": [
    "# Create Corpus: Term Document Frequency\n",
    "corpus = [id2word.doc2bow(text) for text in data_ready]"
   ]
  },
  {
   "cell_type": "code",
   "execution_count": 21,
   "id": "e5a93b12-e7d9-4a12-9c03-503dde839e14",
   "metadata": {},
   "outputs": [],
   "source": [
    "mallet_path = \"/Users/felipesick/Desktop/Mallet_implementation/mallet-2.0.8/bin/mallet\""
   ]
  },
  {
   "cell_type": "code",
   "execution_count": 2,
   "id": "f93b8a08-00b1-4ab2-a741-004eb143362b",
   "metadata": {},
   "outputs": [
    {
     "name": "stdout",
     "output_type": "stream",
     "text": [
      "Unexpected exception formatting exception. Falling back to standard exception\n"
     ]
    },
    {
     "name": "stderr",
     "output_type": "stream",
     "text": [
      "Traceback (most recent call last):\n",
      "  File \"/Users/felipesick/miniforge3/lib/python3.9/site-packages/gensim/matutils.py\", line 1353, in <module>\n",
      "    from gensim.corpora._mmreader import MmReader  # noqa: F401\n",
      "  File \"gensim/corpora/_mmreader.pyx\", line 10, in init gensim.corpora._mmreader\n",
      "ImportError: cannot import name utils\n",
      "\n",
      "During handling of the above exception, another exception occurred:\n",
      "\n",
      "Traceback (most recent call last):\n",
      "  File \"/Users/felipesick/miniforge3/lib/python3.9/site-packages/IPython/core/interactiveshell.py\", line 3398, in run_code\n",
      "    exec(code_obj, self.user_global_ns, self.user_ns)\n",
      "  File \"/var/folders/j_/1y_1_njd2z7dkt41cjdjwcp80000gn/T/ipykernel_16234/3693506924.py\", line 3, in <cell line: 3>\n",
      "    import gensim\n",
      "  File \"/Users/felipesick/miniforge3/lib/python3.9/site-packages/gensim/__init__.py\", line 11, in <module>\n",
      "    from gensim import parsing, corpora, matutils, interfaces, models, similarities, utils  # noqa:F401\n",
      "  File \"/Users/felipesick/miniforge3/lib/python3.9/site-packages/gensim/corpora/__init__.py\", line 6, in <module>\n",
      "    from .indexedcorpus import IndexedCorpus  # noqa:F401 must appear before the other classes\n",
      "  File \"/Users/felipesick/miniforge3/lib/python3.9/site-packages/gensim/corpora/indexedcorpus.py\", line 14, in <module>\n",
      "    from gensim import interfaces, utils\n",
      "  File \"/Users/felipesick/miniforge3/lib/python3.9/site-packages/gensim/interfaces.py\", line 19, in <module>\n",
      "    from gensim import utils, matutils\n",
      "  File \"/Users/felipesick/miniforge3/lib/python3.9/site-packages/gensim/matutils.py\", line 1355, in <module>\n",
      "    raise utils.NO_CYTHON\n",
      "  File \"/Users/felipesick/miniforge3/lib/python3.9/site-packages/IPython/core/interactiveshell.py\", line 3398, in run_code\n",
      "    exec(code_obj, self.user_global_ns, self.user_ns)\n",
      "  File \"/var/folders/j_/1y_1_njd2z7dkt41cjdjwcp80000gn/T/ipykernel_16234/3693506924.py\", line 3, in <cell line: 3>\n",
      "    import gensim\n",
      "  File \"/Users/felipesick/miniforge3/lib/python3.9/site-packages/gensim/__init__.py\", line 5, in <module>\n",
      "    \"\"\"\n",
      "  File \"/Users/felipesick/miniforge3/lib/python3.9/site-packages/gensim/corpora/__init__.py\", line 6, in <module>\n",
      "    from .indexedcorpus import IndexedCorpus  # noqa:F401 must appear before the other classes\n",
      "  File \"/Users/felipesick/miniforge3/lib/python3.9/site-packages/gensim/corpora/indexedcorpus.py\", line 15, in <module>\n",
      "  File \"/Users/felipesick/miniforge3/lib/python3.9/site-packages/gensim/interfaces.py\", line 21, in <module>\n",
      "  File \"/Users/felipesick/miniforge3/lib/python3.9/site-packages/gensim/matutils.py\", line 1428, in <module>\n",
      "RuntimeError: Cython extensions are unavailable. Without them, this gensim functionality is disabled. If you've installed from a package, ask the package maintainer to include Cython extensions. If you're building gensim from source yourself, run `python setup.py build_ext --inplace` and retry. \n",
      "\n",
      "During handling of the above exception, another exception occurred:\n",
      "\n",
      "Traceback (most recent call last):\n",
      "  File \"/Users/felipesick/miniforge3/lib/python3.9/site-packages/IPython/core/interactiveshell.py\", line 1993, in showtraceback\n",
      "    stb = self.InteractiveTB.structured_traceback(\n",
      "  File \"/Users/felipesick/miniforge3/lib/python3.9/site-packages/IPython/core/ultratb.py\", line 1118, in structured_traceback\n",
      "    return FormattedTB.structured_traceback(\n",
      "  File \"/Users/felipesick/miniforge3/lib/python3.9/site-packages/IPython/core/ultratb.py\", line 1012, in structured_traceback\n",
      "    return VerboseTB.structured_traceback(\n",
      "  File \"/Users/felipesick/miniforge3/lib/python3.9/site-packages/IPython/core/ultratb.py\", line 865, in structured_traceback\n",
      "    formatted_exception = self.format_exception_as_a_whole(etype, evalue, etb, number_of_lines_of_context,\n",
      "  File \"/Users/felipesick/miniforge3/lib/python3.9/site-packages/IPython/core/ultratb.py\", line 818, in format_exception_as_a_whole\n",
      "    frames.append(self.format_record(r))\n",
      "  File \"/Users/felipesick/miniforge3/lib/python3.9/site-packages/IPython/core/ultratb.py\", line 736, in format_record\n",
      "    result += ''.join(_format_traceback_lines(frame_info.lines, Colors, self.has_colors, lvals))\n",
      "  File \"/Users/felipesick/miniforge3/lib/python3.9/site-packages/stack_data/utils.py\", line 145, in cached_property_wrapper\n",
      "    value = obj.__dict__[self.func.__name__] = self.func(obj)\n",
      "  File \"/Users/felipesick/miniforge3/lib/python3.9/site-packages/stack_data/core.py\", line 698, in lines\n",
      "    pieces = self.included_pieces\n",
      "  File \"/Users/felipesick/miniforge3/lib/python3.9/site-packages/stack_data/utils.py\", line 145, in cached_property_wrapper\n",
      "    value = obj.__dict__[self.func.__name__] = self.func(obj)\n",
      "  File \"/Users/felipesick/miniforge3/lib/python3.9/site-packages/stack_data/core.py\", line 649, in included_pieces\n",
      "    pos = scope_pieces.index(self.executing_piece)\n",
      "  File \"/Users/felipesick/miniforge3/lib/python3.9/site-packages/stack_data/utils.py\", line 145, in cached_property_wrapper\n",
      "    value = obj.__dict__[self.func.__name__] = self.func(obj)\n",
      "  File \"/Users/felipesick/miniforge3/lib/python3.9/site-packages/stack_data/core.py\", line 628, in executing_piece\n",
      "    return only(\n",
      "  File \"/Users/felipesick/miniforge3/lib/python3.9/site-packages/executing/executing.py\", line 164, in only\n",
      "    raise NotOneValueFound('Expected one value, found 0')\n",
      "executing.executing.NotOneValueFound: Expected one value, found 0\n"
     ]
    }
   ],
   "source": [
    "import os\n",
    "import sys\n",
    "import gensim\n",
    "import pyLDAvis\n",
    "import pyLDAvis.gensim\n",
    "\n",
    "from gensim import corpora\n",
    "from gensim import models\n",
    "from gensim.models.coherencemodel import CoherenceModel\n",
    "from gensim.models.wrappers import LdaMallet\n",
    "\n",
    "print('Python Version: %s' % (sys.version))"
   ]
  },
  {
   "cell_type": "code",
   "execution_count": 22,
   "id": "b8764f65-58f5-4227-b729-50e95c850aee",
   "metadata": {},
   "outputs": [
    {
     "ename": "AttributeError",
     "evalue": "module 'gensim.models' has no attribute 'wrappers'",
     "output_type": "error",
     "traceback": [
      "\u001b[0;31m---------------------------------------------------------------------------\u001b[0m",
      "\u001b[0;31mAttributeError\u001b[0m                            Traceback (most recent call last)",
      "Input \u001b[0;32mIn [22]\u001b[0m, in \u001b[0;36m<cell line: 1>\u001b[0;34m()\u001b[0m\n\u001b[0;32m----> 1\u001b[0m ldamallet \u001b[38;5;241m=\u001b[39m \u001b[43mgensim\u001b[49m\u001b[38;5;241;43m.\u001b[39;49m\u001b[43mmodels\u001b[49m\u001b[38;5;241;43m.\u001b[39;49m\u001b[43mwrappers\u001b[49m\u001b[38;5;241m.\u001b[39mLdaMallet(mallet_path, corpus\u001b[38;5;241m=\u001b[39mcorpus, num_topics\u001b[38;5;241m=\u001b[39m\u001b[38;5;241m50\u001b[39m, id2word\u001b[38;5;241m=\u001b[39mid2word)\n",
      "\u001b[0;31mAttributeError\u001b[0m: module 'gensim.models' has no attribute 'wrappers'"
     ]
    }
   ],
   "source": [
    "ldamallet = gensim.models.wrappers.LdaMallet(mallet_path, corpus=corpus, num_topics=50, id2word=id2word)"
   ]
  },
  {
   "cell_type": "code",
   "execution_count": null,
   "id": "fb3d7443-0a01-44e2-be8e-a7bf100a08a5",
   "metadata": {},
   "outputs": [],
   "source": []
  }
 ],
 "metadata": {
  "kernelspec": {
   "display_name": "Python 3 (ipykernel)",
   "language": "python",
   "name": "python3"
  },
  "language_info": {
   "codemirror_mode": {
    "name": "ipython",
    "version": 3
   },
   "file_extension": ".py",
   "mimetype": "text/x-python",
   "name": "python",
   "nbconvert_exporter": "python",
   "pygments_lexer": "ipython3",
   "version": "3.9.13"
  }
 },
 "nbformat": 4,
 "nbformat_minor": 5
}
